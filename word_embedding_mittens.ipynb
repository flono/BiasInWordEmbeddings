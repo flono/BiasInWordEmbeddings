{
 "cells": [
  {
   "cell_type": "code",
   "execution_count": null,
   "metadata": {},
   "outputs": [],
   "source": [
    "from mittens import GloVe\n",
    "\n",
    "# Load `cooccurrence`\n",
    "# Train GloVe model\n",
    "glove_model = GloVe(n=50, max_iter=1000)  # 50 is the embedding dimension\n",
    "embeddings = glove_model.fit(cooccurrence)"
   ]
  },
  {
   "cell_type": "code",
   "execution_count": 2,
   "metadata": {},
   "outputs": [],
   "source": [
    "from mittens import GloVe, Mittens\n",
    "\n",
    "import numpy as np\n",
    "import csv\n",
    "\n",
    "#from glove import Corpus, Glove"
   ]
  },
  {
   "cell_type": "code",
   "execution_count": 7,
   "metadata": {},
   "outputs": [
    {
     "name": "stderr",
     "output_type": "stream",
     "text": [
      "Iteration 1000: error 0.0062"
     ]
    },
    {
     "data": {
      "text/plain": [
       "array([[-0.83376033,  2.33339634],\n",
       "       [ 2.48620555,  2.72248887],\n",
       "       [ 1.26102369, -0.21713041],\n",
       "       [ 0.85959073,  1.16744574]])"
      ]
     },
     "execution_count": 7,
     "metadata": {},
     "output_type": "execute_result"
    }
   ],
   "source": [
    "# Small example of glove training\n",
    "\n",
    "# cooccurence matrix from new data\n",
    "cooccurrence = np.array([\n",
    "    [  4.,   4.,   2.,   0.],\n",
    "    [  4.,  61.,   8.,  18.],\n",
    "    [  2.,   8.,  10.,   0.],\n",
    "    [  0.,  18.,   0.,   5.]])\n",
    "\n",
    "# glove vectors with dim = 2\n",
    "glove_model = GloVe(n=2, max_iter=1000)\n",
    "\n",
    "# train model\n",
    "embeddings = glove_model.fit(cooccurrence)\n",
    "embeddings"
   ]
  },
  {
   "cell_type": "code",
   "execution_count": null,
   "metadata": {},
   "outputs": [],
   "source": [
    "# To use Mittens, you first need pre-trained embeddings.\n",
    "# e.g. Pennington et al's embeddings, available from the Stanford GloVe website.\n",
    "\n",
    "# These vectors should be stored in a dict, where the key is the\n",
    "# token and the value is the vector."
   ]
  },
  {
   "cell_type": "code",
   "execution_count": 9,
   "metadata": {},
   "outputs": [],
   "source": [
    "# This function manipulates a Stanford embedding file into the appropriate format.\n",
    "def glove2dict(glove_filename):\n",
    "    with open(glove_filename) as f:\n",
    "        reader = csv.reader(f, delimiter=' ', quoting=csv.QUOTE_NONE)\n",
    "        embed = {line[0]: np.array(list(map(float, line[1:])))\n",
    "                for line in reader}\n",
    "    return embed"
   ]
  },
  {
   "cell_type": "code",
   "execution_count": null,
   "metadata": {},
   "outputs": [],
   "source": [
    "# Now that we have our embeddings (stored as original_embeddings), as well as\n",
    "# a co-occurrence matrix and associated vocabulary, we're ready to train Mittens:\n",
    "\n",
    "# Load `cooccurrence` and `vocab`\n",
    "# Load `original_embedding`\n",
    "mittens_model = Mittens(n=50, max_iter=1000)\n",
    "# Note: n must match the original embedding dimension\n",
    "new_embeddings = mittens_model.fit(\n",
    "    cooccurrence,\n",
    "    vocab=vocab,\n",
    "    initial_embedding_dict= original_embedding)"
   ]
  },
  {
   "cell_type": "code",
   "execution_count": null,
   "metadata": {},
   "outputs": [],
   "source": [
    "# Once trained, new_embeddings should be compatible with the existing embeddings\n",
    "# in the sense that they will be oriented such that using a mix of the the two\n",
    "# embeddings is meaningful (e.g. using original embeddings for any test-set tokens\n",
    "# that were not in the training set)."
   ]
  },
  {
   "cell_type": "code",
   "execution_count": 4,
   "metadata": {},
   "outputs": [
    {
     "ename": "AttributeError",
     "evalue": "'Mittens' object has no attribute 'save'",
     "output_type": "error",
     "traceback": [
      "\u001b[0;31m---------------------------------------------------------------------------\u001b[0m",
      "\u001b[0;31mAttributeError\u001b[0m                            Traceback (most recent call last)",
      "\u001b[0;32m<ipython-input-4-73d5eb8784c5>\u001b[0m in \u001b[0;36m<module>\u001b[0;34m\u001b[0m\n\u001b[1;32m      1\u001b[0m \u001b[0mtest_data\u001b[0m \u001b[0;34m=\u001b[0m \u001b[0;34m\"cats dogs kitten cat dog animal fur cat dog animal cat cat kitten puppy dog puppy dog kitten cat kitten fur fluffy cat fur hair animal fur animal dog puppy cat kitten house bike ride horse animal ride horse ride bike car fast travel horse animal ride bike drive car bus bike tires bike car tires drive ride bike car horse fur animal cat horse dog bird fly feathers bird  air fly beak animal fly cat bird feather animal bird air fly plane fly drive playe fly bird plane air drive fly\"\u001b[0m\u001b[0;34m\u001b[0m\u001b[0;34m\u001b[0m\u001b[0m\n\u001b[1;32m      2\u001b[0m \u001b[0mmittens_model\u001b[0m \u001b[0;34m=\u001b[0m \u001b[0mMittens\u001b[0m\u001b[0;34m(\u001b[0m\u001b[0mn\u001b[0m\u001b[0;34m=\u001b[0m\u001b[0;36m50\u001b[0m\u001b[0;34m,\u001b[0m \u001b[0mmax_iter\u001b[0m\u001b[0;34m=\u001b[0m\u001b[0;36m1000\u001b[0m\u001b[0;34m)\u001b[0m\u001b[0;34m\u001b[0m\u001b[0;34m\u001b[0m\u001b[0m\n\u001b[0;32m----> 3\u001b[0;31m \u001b[0mmittens_model\u001b[0m\u001b[0;34m.\u001b[0m\u001b[0msave\u001b[0m\u001b[0;34m(\u001b[0m\u001b[0;34m)\u001b[0m\u001b[0;34m\u001b[0m\u001b[0;34m\u001b[0m\u001b[0m\n\u001b[0m\u001b[1;32m      4\u001b[0m \u001b[0;34m\u001b[0m\u001b[0m\n\u001b[1;32m      5\u001b[0m \u001b[0;34m\u001b[0m\u001b[0m\n",
      "\u001b[0;31mAttributeError\u001b[0m: 'Mittens' object has no attribute 'save'"
     ]
    }
   ],
   "source": [
    "test_data = \"cats dogs kitten cat dog animal fur cat dog animal cat cat kitten puppy dog puppy dog kitten cat kitten fur fluffy cat fur hair animal fur animal dog puppy cat kitten house bike ride horse animal ride horse ride bike car fast travel horse animal ride bike drive car bus bike tires bike car tires drive ride bike car horse fur animal cat horse dog bird fly feathers bird  air fly beak animal fly cat bird feather animal bird air fly plane fly drive playe fly bird plane air drive fly\"\n",
    "mittens_model = Mittens(n=50, max_iter=1000)\n",
    "\n",
    "\n",
    "\n"
   ]
  },
  {
   "cell_type": "code",
   "execution_count": null,
   "metadata": {},
   "outputs": [],
   "source": []
  }
 ],
 "metadata": {
  "kernelspec": {
   "display_name": "Python 3",
   "language": "python",
   "name": "python3"
  },
  "language_info": {
   "codemirror_mode": {
    "name": "ipython",
    "version": 3
   },
   "file_extension": ".py",
   "mimetype": "text/x-python",
   "name": "python",
   "nbconvert_exporter": "python",
   "pygments_lexer": "ipython3",
   "version": "3.7.6"
  }
 },
 "nbformat": 4,
 "nbformat_minor": 4
}
